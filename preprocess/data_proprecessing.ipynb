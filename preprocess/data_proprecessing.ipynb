{
 "cells": [
  {
   "cell_type": "code",
   "execution_count": 3,
   "metadata": {},
   "outputs": [
    {
     "name": "stdout",
     "output_type": "stream",
     "text": [
      "0\n"
     ]
    }
   ],
   "source": [
    "import os\n",
    "DataPath = './dataset/crop_img/'\n",
    "# f = open('./img4_path.txt', 'a')\n",
    "# f1 = open('./img4_path1.txt', 'a')\n",
    "# f2 = open('./img4_path2.txt', 'a')\n",
    "\n",
    "cnt = 0\n",
    "paths = []\n",
    "for dirs in os.listdir(DataPath):\n",
    "    path = os.path.join(DataPath, dirs)\n",
    "    if len(os.listdir(path)) == 0:\n",
    "        # f.write(path + '\\n')\n",
    "        paths.append(path)\n",
    "        cnt += 1\n",
    "print(cnt)\n",
    "\n",
    "# half = len(paths) // 2\n",
    "# for path in paths[:half]:\n",
    "#     f1.write(path + '\\n')\n",
    "\n",
    "# for path in paths[half:]:\n",
    "#     f2.write(path + '\\n')\n",
    "# f.close()\n",
    "# f1.close()\n",
    "# f2.close()"
   ]
  },
  {
   "cell_type": "code",
   "execution_count": 2,
   "metadata": {},
   "outputs": [
    {
     "name": "stdout",
     "output_type": "stream",
     "text": [
      "이미지 4개 이상 id:  647\n",
      "이미지 3개 이상 id:  950\n"
     ]
    }
   ],
   "source": [
    "DataPath = './dataset/cleansing_data/'\n",
    "cnt3 = 0\n",
    "cnt4 = 0\n",
    "for dirs in os.listdir(DataPath):\n",
    "    path = os.path.join(DataPath, dirs)\n",
    "    if len(os.listdir(path)) >= 3:\n",
    "        cnt3 += 1\n",
    "    if len(os.listdir(path)) >= 4:\n",
    "        cnt4 += 1\n",
    "print('이미지 4개 이상 id: ', cnt4)\n",
    "print('이미지 3개 이상 id: ', cnt3)"
   ]
  },
  {
   "cell_type": "markdown",
   "metadata": {},
   "source": [
    "이미지 3개 이상인 id dataset 저장"
   ]
  },
  {
   "cell_type": "code",
   "execution_count": 3,
   "metadata": {},
   "outputs": [],
   "source": [
    "import cv2\n",
    "\n",
    "output_path = './dataset/over3_img'\n",
    "\n",
    "if not os.path.exists(output_path):\n",
    "    os.mkdir(output_path)\n",
    "\n",
    "for root, dirs, files in os.walk(DataPath):\n",
    "    file_id = root.split('/')[-1]\n",
    "    origin_id_dir = os.path.join(DataPath, file_id)\n",
    "    change_id_dir = os.path.join(output_path, file_id)\n",
    "\n",
    "    if len(os.listdir(origin_id_dir)) >= 3:\n",
    "        if not os.path.exists(change_id_dir):\n",
    "            os.mkdir(change_id_dir)\n",
    "\n",
    "        for file in files:\n",
    "            img_path = os.path.join(root, file)\n",
    "            save_img_path = os.path.join(change_id_dir, file)\n",
    "            img = cv2.imread(img_path)\n",
    "            cv2.imwrite(save_img_path, img)\n"
   ]
  },
  {
   "cell_type": "markdown",
   "metadata": {},
   "source": [
    "## Make csv"
   ]
  },
  {
   "cell_type": "code",
   "execution_count": null,
   "metadata": {},
   "outputs": [],
   "source": [
    "txt = open('img4_path_refer.txt', 'r')\n",
    "refer = {}\n",
    "while True:\n",
    "    path = txt.readline()\n",
    "    if not path:\n",
    "        break\n",
    "    path = path.strip().split('G:/crop_img/')[-1].split('/')\n",
    "    id, name = path[0], path[-1]\n",
    "    refer[id] = name\n",
    "txt.close()\n",
    "\n",
    "print(refer)"
   ]
  },
  {
   "cell_type": "code",
   "execution_count": null,
   "metadata": {},
   "outputs": [],
   "source": [
    "root_path = './dataset/siamese_dataset'\n",
    "Datapath = root_path + '/train'\n",
    "\n",
    "id_arr = []\n",
    "for root, dirs, files in os.walk(Datapath):\n",
    "    id_arr = dirs\n",
    "    break\n",
    "\n",
    "train_refer = {}\n",
    "for id in id_arr:\n",
    "    train_refer[id] = refer[id]\n",
    "print(train_refer)"
   ]
  },
  {
   "cell_type": "code",
   "execution_count": 15,
   "metadata": {},
   "outputs": [
    {
     "ename": "AttributeError",
     "evalue": "'str' object has no attribute 'close'",
     "output_type": "error",
     "traceback": [
      "\u001b[1;31m---------------------------------------------------------------------------\u001b[0m",
      "\u001b[1;31mAttributeError\u001b[0m                            Traceback (most recent call last)",
      "\u001b[1;32mc:\\Users\\mjw27\\Desktop\\DogFace\\data_proprecessing.ipynb Cell 12'\u001b[0m in \u001b[0;36m<cell line: 64>\u001b[1;34m()\u001b[0m\n\u001b[0;32m     <a href='vscode-notebook-cell:/c%3A/Users/mjw27/Desktop/DogFace/data_proprecessing.ipynb#ch0000010?line=60'>61</a>\u001b[0m         id_arr\u001b[39m.\u001b[39mappend(my_id)\n\u001b[0;32m     <a href='vscode-notebook-cell:/c%3A/Users/mjw27/Desktop/DogFace/data_proprecessing.ipynb#ch0000010?line=61'>62</a>\u001b[0m     train_refer[ids] \u001b[39m=\u001b[39m refer_path\n\u001b[1;32m---> <a href='vscode-notebook-cell:/c%3A/Users/mjw27/Desktop/DogFace/data_proprecessing.ipynb#ch0000010?line=63'>64</a>\u001b[0m f\u001b[39m.\u001b[39;49mclose()\n",
      "\u001b[1;31mAttributeError\u001b[0m: 'str' object has no attribute 'close'"
     ]
    }
   ],
   "source": [
    "import cv2\n",
    "import csv\n",
    "import random\n",
    "import itertools\n",
    "\n",
    "\n",
    "root_path = './dataset/siamese_dataset'\n",
    "Datapath = root_path + '/train'\n",
    "\n",
    "id_arr = []\n",
    "for root, dirs, files in os.walk(Datapath):\n",
    "    id_arr = dirs\n",
    "    break\n",
    "\n",
    "train_refer = {}\n",
    "for id in id_arr:\n",
    "    train_refer[id] = refer[id]\n",
    "\n",
    "f = open('./train_data.csv', 'w', encoding='utf-8', newline='')\n",
    "wr = csv.writer(f)\n",
    "wr.writerow(['img1', 'img2', 'label'])\n",
    "\n",
    "for ids in os.listdir(Datapath):\n",
    "    img_id = os.path.join(Datapath, ids)\n",
    "    images = os.listdir(img_id)\n",
    "\n",
    "    genuine_pairs = list(itertools.permutations(images, 2))\n",
    "    num = len(genuine_pairs)\n",
    "    pair_num = 849 if num > 849 else num\n",
    "    for genuine in genuine_pairs:\n",
    "        f, s = genuine\n",
    "        first = os.path.join(ids, f).replace('\\\\', '/')\n",
    "        second = os.path.join(ids, s).replace('\\\\', '/')\n",
    "        wr.writerow([first, second, 0])\n",
    "    \n",
    "    refer_path = train_refer.pop(ids)\n",
    "    # 본인을 뺀 나머지 id에서 랜덤으로 imposter id 추출\n",
    "    join_refer_path = ids + '/' + refer_path\n",
    "    imposter = random.sample(list(train_refer.values()), pair_num)\n",
    "    \n",
    "    for imp in imposter:\n",
    "        id = imp.split('.')[0]\n",
    "        imp = id + '/' + imp\n",
    "        wr.writerow([join_refer_path, imp, 1])\n",
    "        \n",
    "    # genuine 개수 1050개 넘어가는 id는 다른 id에서 refer이미지 제외하고 랜덤 추출\n",
    "    if num > 849:\n",
    "        diff_num = num - pair_num\n",
    "        id_idx = id_arr.index(ids)\n",
    "        my_id = id_arr.pop(id_idx)\n",
    "        rest_ids = random.sample(id_arr, diff_num)\n",
    "        \n",
    "        for rest_id in rest_ids:\n",
    "            rest = os.path.join(Datapath, rest_id)\n",
    "            image = os.listdir(rest)\n",
    "            image.remove(refer[rest_id])\n",
    "            rand_img = random.choice(image)\n",
    "            rand_img = rest_id + '/' + rand_img\n",
    "            wr.writerow([join_refer_path, rand_img, 1])\n",
    "\n",
    "        id_arr.append(my_id)\n",
    "    train_refer[ids] = refer_path\n",
    "\n",
    "f.close()\n"
   ]
  },
  {
   "cell_type": "code",
   "execution_count": 16,
   "metadata": {},
   "outputs": [
    {
     "ename": "AttributeError",
     "evalue": "'str' object has no attribute 'close'",
     "output_type": "error",
     "traceback": [
      "\u001b[1;31m---------------------------------------------------------------------------\u001b[0m",
      "\u001b[1;31mAttributeError\u001b[0m                            Traceback (most recent call last)",
      "\u001b[1;32mc:\\Users\\mjw27\\Desktop\\DogFace\\data_proprecessing.ipynb Cell 13'\u001b[0m in \u001b[0;36m<cell line: 58>\u001b[1;34m()\u001b[0m\n\u001b[0;32m     <a href='vscode-notebook-cell:/c%3A/Users/mjw27/Desktop/DogFace/data_proprecessing.ipynb#ch0000011?line=54'>55</a>\u001b[0m         id_arr\u001b[39m.\u001b[39mappend(my_id)\n\u001b[0;32m     <a href='vscode-notebook-cell:/c%3A/Users/mjw27/Desktop/DogFace/data_proprecessing.ipynb#ch0000011?line=55'>56</a>\u001b[0m     test_refer[ids] \u001b[39m=\u001b[39m refer_path\n\u001b[1;32m---> <a href='vscode-notebook-cell:/c%3A/Users/mjw27/Desktop/DogFace/data_proprecessing.ipynb#ch0000011?line=57'>58</a>\u001b[0m f\u001b[39m.\u001b[39;49mclose()\n",
      "\u001b[1;31mAttributeError\u001b[0m: 'str' object has no attribute 'close'"
     ]
    }
   ],
   "source": [
    "root_path = './dataset/siamese_dataset'\n",
    "Datapath = root_path + '/test'\n",
    "\n",
    "id_arr = []\n",
    "for root, dirs, files in os.walk(Datapath):\n",
    "    id_arr = dirs\n",
    "    break\n",
    "\n",
    "test_refer = {}\n",
    "for id in id_arr:\n",
    "    test_refer[id] = refer[id]\n",
    "\n",
    "f = open('./test_data.csv', 'w', encoding='utf-8', newline='')\n",
    "wr = csv.writer(f)\n",
    "wr.writerow(['img1', 'img2', 'label'])\n",
    "\n",
    "for ids in os.listdir(Datapath):\n",
    "    img_id = os.path.join(Datapath, ids)\n",
    "    images = os.listdir(img_id)\n",
    "\n",
    "    genuine_pairs = list(itertools.permutations(images, 2))\n",
    "    num = len(genuine_pairs)\n",
    "    pair_num = 199 if num > 199 else num\n",
    "    for genuine in genuine_pairs:\n",
    "        f, s = genuine\n",
    "        first = os.path.join(ids, f).replace('\\\\', '/')\n",
    "        second = os.path.join(ids, s).replace('\\\\', '/')\n",
    "        wr.writerow([first, second, 0])\n",
    "    \n",
    "    refer_path = test_refer.pop(ids)\n",
    "    # 본인을 뺀 나머지 id에서 랜덤으로 imposter id 추출\n",
    "    join_refer_path = ids + '/' + refer_path\n",
    "    imposter = random.sample(list(test_refer.values()), pair_num)\n",
    "    \n",
    "    for imp in imposter:\n",
    "        id = imp.split('.')[0]\n",
    "        imp = id + '/' + imp\n",
    "        wr.writerow([join_refer_path, imp, 1])\n",
    "        \n",
    "    # genuine 개수 1050개 넘어가는 id는 다른 id에서 refer이미지 제외하고 랜덤 추출\n",
    "    if num > 199:\n",
    "        diff_num = num - pair_num\n",
    "        id_idx = id_arr.index(ids)\n",
    "        my_id = id_arr.pop(id_idx)\n",
    "        rest_ids = random.sample(id_arr, diff_num)\n",
    "        \n",
    "        for rest_id in rest_ids:\n",
    "            rest = os.path.join(Datapath, rest_id)\n",
    "            image = os.listdir(rest)\n",
    "            image.remove(refer[rest_id])\n",
    "            rand_img = random.choice(image)\n",
    "            rand_img = rest_id + '/' + rand_img\n",
    "            wr.writerow([join_refer_path, rand_img, 1])\n",
    "\n",
    "        id_arr.append(my_id)\n",
    "    test_refer[ids] = refer_path\n",
    "\n",
    "f.close()\n"
   ]
  }
 ],
 "metadata": {
  "interpreter": {
   "hash": "7bc1f6fd7a821d72bebcae68d0b6cf445d200b2639d5c1bf60ad7730a568ecd8"
  },
  "kernelspec": {
   "display_name": "Python 3.8.12 ('dog_face')",
   "language": "python",
   "name": "python3"
  },
  "language_info": {
   "codemirror_mode": {
    "name": "ipython",
    "version": 3
   },
   "file_extension": ".py",
   "mimetype": "text/x-python",
   "name": "python",
   "nbconvert_exporter": "python",
   "pygments_lexer": "ipython3",
   "version": "3.8.12"
  },
  "orig_nbformat": 4
 },
 "nbformat": 4,
 "nbformat_minor": 2
}
